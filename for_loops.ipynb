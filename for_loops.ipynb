{
  "cells": [
    {
      "cell_type": "markdown",
      "metadata": {
        "id": "qZBt_k5O3POh"
      },
      "source": [
        "Loops:\n",
        "\n",
        "**Part 1:** The Basics of Looping\n",
        "\n",
        "**Objective:** Learn how to use a basic for loop.\n",
        "\n",
        "**Task:** King Arthur needs to count his knights before they start their journey. Write a simple for loop to print the names of Arthur’s knights one by one."
      ]
    },
    {
      "cell_type": "code",
      "execution_count": 34,
      "metadata": {
        "id": "KbBK_38Y2wvi"
      },
      "outputs": [
        {
          "name": "stdout",
          "output_type": "stream",
          "text": [
            "Sir Lancelot\n",
            "Sir Galahad\n",
            "Sir Robin\n",
            "Sir Bedevere\n"
          ]
        }
      ],
      "source": [
        "knights = [\"Sir Lancelot\", \"Sir Galahad\", \"Sir Robin\", \"Sir Bedevere\"]\n",
        "\n",
        "for knight in knights:\n",
        "    print(knight)"
      ]
    },
    {
      "cell_type": "markdown",
      "metadata": {
        "id": "hEkCeDK735lV"
      },
      "source": [
        "**Expected output:**\n",
        "\n",
        "Sir Lancelot\n",
        "\n",
        "Sir Galahad\n",
        "\n",
        "Sir Robin\n",
        "\n",
        "Sir Bedevere"
      ]
    },
    {
      "cell_type": "markdown",
      "metadata": {
        "id": "9IFoJsvT3pL8"
      },
      "source": [
        "**Part 2:** Looping with Indices\n",
        "\n",
        "**Objective:** Use a `for` loop with `enumerate()` to print each knight's position in line.\n",
        "\n",
        "**Task:** The knights need to know their order in the line. Modify your `for` loop to print each knight's position along with their name."
      ]
    },
    {
      "cell_type": "code",
      "execution_count": 35,
      "metadata": {
        "id": "hUdvkImG31iG"
      },
      "outputs": [
        {
          "name": "stdout",
          "output_type": "stream",
          "text": [
            "1. Sir Lancelot\n",
            "2. Sir Galahad\n",
            "3. Sir Robin\n",
            "4. Sir Bedevere\n"
          ]
        }
      ],
      "source": [
        "for order, knight in enumerate(knights, 1):\n",
        "    print (f\"{order}. {knight}\")\n"
      ]
    },
    {
      "cell_type": "markdown",
      "metadata": {
        "id": "cd37mok132KJ"
      },
      "source": [
        "**Expected Output**\n",
        "\n",
        "1. Sir Lancelot\n",
        "2. Sir Galahad\n",
        "3. Sir Robin\n",
        "4. Sir Bedevere\n"
      ]
    },
    {
      "cell_type": "markdown",
      "metadata": {
        "id": "M_WHDIcx4UNn"
      },
      "source": [
        "**Part 3:** Looping Through String Characters\n",
        "\n",
        "**Objective:** Use a `for` loop to iterate through characters in a string.\n",
        "\n",
        "**Task:** Sir Robin is composing a song about bravery (or lack thereof). Using a `for` loop, iterate through the string below to print each character one by one."
      ]
    },
    {
      "cell_type": "code",
      "execution_count": 36,
      "metadata": {
        "id": "GqrQmpsh4fSm"
      },
      "outputs": [
        {
          "name": "stdout",
          "output_type": "stream",
          "text": [
            "B\n",
            "r\n",
            "a\n",
            "v\n",
            "e\n",
            "l\n",
            "y\n",
            " \n",
            "b\n",
            "o\n",
            "l\n",
            "d\n",
            " \n",
            "S\n",
            "i\n",
            "r\n",
            " \n",
            "R\n",
            "o\n",
            "b\n",
            "i\n",
            "n\n",
            " \n",
            "r\n",
            "o\n",
            "d\n",
            "e\n",
            " \n",
            "f\n",
            "o\n",
            "r\n",
            "t\n",
            "h\n",
            " \n",
            "f\n",
            "r\n",
            "o\n",
            "m\n",
            " \n",
            "C\n",
            "a\n",
            "m\n",
            "e\n",
            "l\n",
            "o\n",
            "t\n"
          ]
        }
      ],
      "source": [
        "song = \"Bravely bold Sir Robin rode forth from Camelot\"\n",
        "\n",
        "for char in song:\n",
        "    print(char)\n"
      ]
    },
    {
      "cell_type": "markdown",
      "metadata": {
        "id": "lFXoNRKH4j1W"
      },
      "source": [
        "**Expected Output**\n",
        "\n",
        "B\n",
        "\n",
        "r\n",
        "\n",
        "a\n",
        "\n",
        "..."
      ]
    },
    {
      "cell_type": "markdown",
      "metadata": {
        "id": "gb5OJKTC49DN"
      },
      "source": [
        "**Part 4:** Filtering with Loops\n",
        "\n",
        "**Objective:** Use an `if` statement inside a `for` loop to filter results.\n",
        "\n",
        "**Task:** Not all the knights are brave enough for this journey. Using a `for` loop, print only the brave knights (those whose names contain the word \"Sir\")."
      ]
    },
    {
      "cell_type": "code",
      "execution_count": 48,
      "metadata": {
        "id": "pXmiXOfA5NPu"
      },
      "outputs": [
        {
          "name": "stdout",
          "output_type": "stream",
          "text": [
            "Sir Lancelot\n",
            "Sir Galahad\n",
            "Sir Robin\n"
          ]
        }
      ],
      "source": [
        "brave_knights = [\"Sir Lancelot\", \"Sir Galahad\", \"Black Knight\", \"Sir Robin\"]\n",
        "\n",
        "for chars in brave_knights:\n",
        "    if chars.startswith(\"S\"):\n",
        "        print(chars)\n"
      ]
    },
    {
      "cell_type": "markdown",
      "metadata": {
        "id": "nXCKIySq5UGF"
      },
      "source": [
        "**Expected Output:**\n",
        "\n",
        "Sir Lancelot\n",
        "\n",
        "Sir Galahad\n",
        "\n",
        "Sir Robin"
      ]
    },
    {
      "cell_type": "markdown",
      "metadata": {
        "id": "m-pA-pDH5fv4"
      },
      "source": [
        "**Part 5:** Looping with Range\n",
        "\n",
        "**Objective:** Use `range()` in a `for` loop.\n",
        "\n",
        "**Task:** The knights need to ride back and forth across the bridge 5 times to prove their bravery! Write a `for` loop using `range()` that repeats the action of crossing the bridge 5 times."
      ]
    },
    {
      "cell_type": "code",
      "execution_count": 50,
      "metadata": {
        "id": "SU2YG1ec5Ycb"
      },
      "outputs": [
        {
          "name": "stdout",
          "output_type": "stream",
          "text": [
            "Crossing the bridge!\n",
            "Crossing the bridge!\n",
            "Crossing the bridge!\n",
            "Crossing the bridge!\n",
            "Crossing the bridge!\n"
          ]
        }
      ],
      "source": [
        "range(5)\n",
        "\n",
        "for cross in range(5):\n",
        "    print(\"Crossing the bridge!\")"
      ]
    },
    {
      "cell_type": "markdown",
      "metadata": {
        "id": "S6W33xFH5pis"
      },
      "source": [
        "**Expected Output:**\n",
        "\n",
        "Crossing the bridge!\n",
        "\n",
        "Crossing the bridge!\n",
        "\n",
        "Crossing the bridge!\n",
        "\n",
        "Crossing the bridge!\n",
        "\n",
        "Crossing the bridge!"
      ]
    },
    {
      "cell_type": "markdown",
      "metadata": {
        "id": "9tLrz2va5vZm"
      },
      "source": [
        "**Part 6:** Nested Loops - The Knights’ Quest\n",
        "\n",
        "**Objective:** Learn how to use a nested `for` loop.\n",
        "\n",
        "**Task:** The knights need to gather supplies for their journey. They’ll search the fields, forests, and mountains for food and drink. Write a nested `for` loop that lets each knight search each location."
      ]
    },
    {
      "cell_type": "code",
      "execution_count": 56,
      "metadata": {
        "id": "XQF4Nb3756g_"
      },
      "outputs": [
        {
          "name": "stdout",
          "output_type": "stream",
          "text": [
            "Sir Lancelot is seartching the fields for supplies.\n",
            "Sir Lancelot is seartching the forests for supplies.\n",
            "Sir Lancelot is seartching the mountains for supplies.\n",
            "Sir Galahad is seartching the fields for supplies.\n",
            "Sir Galahad is seartching the forests for supplies.\n",
            "Sir Galahad is seartching the mountains for supplies.\n",
            "Sir Robin is seartching the fields for supplies.\n",
            "Sir Robin is seartching the forests for supplies.\n",
            "Sir Robin is seartching the mountains for supplies.\n"
          ]
        }
      ],
      "source": [
        "knights = [\"Sir Lancelot\", \"Sir Galahad\", \"Sir Robin\"]\n",
        "locations = [\"fields\", \"forests\", \"mountains\"]\n",
        "\n",
        "for knight in knights:\n",
        "    for location in locations:\n",
        "        print(f\"{knight} is seartching the {location} for supplies.\")\n"
      ]
    },
    {
      "cell_type": "markdown",
      "metadata": {
        "id": "xFWSneST5-YY"
      },
      "source": [
        "**Expected Output**\n",
        "\n",
        "Sir Lancelot is searching the fields for supplies.\n",
        "\n",
        "Sir Lancelot is searching the forests for supplies.\n",
        "\n",
        "Sir Lancelot is searching the mountains for supplies.\n",
        "\n",
        "Sir Galahad is searching the fields for supplies.\n",
        "\n",
        "Sir Galahad is searching the forests for supplies.\n",
        "\n",
        "Sir Galahad is searching the mountains for supplies.\n",
        "\n",
        "Sir Robin is searching the fields for supplies.\n",
        "\n",
        "Sir Robin is searching the forests for supplies.\n",
        "\n",
        "Sir Robin is searching the mountains for supplies."
      ]
    },
    {
      "cell_type": "markdown",
      "metadata": {
        "id": "mUm2W3kw6Lxp"
      },
      "source": [
        "**Bonus Challenge: **Looping with Conditional Logic\n",
        "\n",
        "**Objective:** Use conditional logic in `for` loops.\n",
        "\n",
        "**Task:** Not every knight will be able to cross the bridge. Only those with a bravery score of 8 or higher can cross. Write a loop that prints which knights successfully cross."
      ]
    },
    {
      "cell_type": "code",
      "execution_count": null,
      "metadata": {
        "id": "BDkb2Tju6XbV"
      },
      "outputs": [],
      "source": []
    },
    {
      "cell_type": "markdown",
      "metadata": {
        "id": "s8PNZwO56uT6"
      },
      "source": [
        "Expected Output\n",
        "\n",
        "Sir Lancelot crosses the bridge!\n",
        "\n",
        "Sir Robin crosses the bridge!"
      ]
    }
  ],
  "metadata": {
    "colab": {
      "authorship_tag": "ABX9TyNogeshfhUpZjfg86sP2Wfr",
      "provenance": []
    },
    "kernelspec": {
      "display_name": "Python 3",
      "name": "python3"
    },
    "language_info": {
      "codemirror_mode": {
        "name": "ipython",
        "version": 3
      },
      "file_extension": ".py",
      "mimetype": "text/x-python",
      "name": "python",
      "nbconvert_exporter": "python",
      "pygments_lexer": "ipython3",
      "version": "3.9.6"
    }
  },
  "nbformat": 4,
  "nbformat_minor": 0
}
