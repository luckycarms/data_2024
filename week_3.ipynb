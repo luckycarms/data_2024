{
  "cells": [
    {
      "cell_type": "markdown",
      "metadata": {
        "id": "9TxHBxSmB96X"
      },
      "source": [
        "# Markdown Basics in Jupyter Notebooks\n",
        "\n",
        "**Objective:** By the end of this exercise, you should be able to use Markdown to create organized, styled content in Jupyter Notebooks.\n",
        "\n",
        "[documentation](https://www.markdownguide.org/cheat-sheet/)\n",
        "\n",
        "[more documentation](https://www.markdownguide.org/extended-syntax/)\n",
        "\n",
        "**Instructions**\n",
        "\n",
        "1. Use Markdown headings to structure content.\n",
        "Create cells with the following:\n",
        "  - A title using **Heading 1**\n",
        "  - A section heading with **Heading 2**\n",
        "  - A subsection with **Heading 3**"
      ]
    },
    {
      "cell_type": "markdown",
      "metadata": {
        "id": "6SPk_f2fHR14"
      },
      "source": [
        "# Markdown Basics\n",
        "## Learning Markdown\n",
        "### Diving deep into markdown"
      ]
    },
    {
      "cell_type": "markdown",
      "metadata": {
        "id": "t_HeS5bpB8u7"
      },
      "source": [
        "2. Practice bold and italic text:\n",
        "  - Add a cell with the following text: “This is bold text, and this is italic text.”\n",
        "  - Create a blockquote with the text: “This is a blockquote example.”"
      ]
    },
    {
      "cell_type": "markdown",
      "metadata": {
        "id": "jy1cptsFHSuX"
      },
      "source": [
        "**This is bold text,** *and this is italic text.\"*\n",
        "> \"This is a  blockquote example.\""
      ]
    },
    {
      "cell_type": "markdown",
      "metadata": {
        "id": "6AB2ox0gHF34"
      },
      "source": [
        "3. Create an ordered list (numbers) and an unordered list (bullets):\n",
        "\n",
        "- **Ordered List:**\n",
        "  1. First item\n",
        "  2. Second item\n",
        "  3. Third item\n",
        "\n",
        "- **Unordered List:**\n",
        "  - First item\n",
        "  - Second item\n",
        "  - Third item"
      ]
    },
    {
      "cell_type": "markdown",
      "metadata": {
        "id": "JyYvQ5lSHTmX"
      },
      "source": [
        "1. First of all\n",
        "2. Second of all\n",
        "3. Third of all\n",
        "\n",
        "- This is first\n",
        "- This is second\n",
        "- This is third"
      ]
    },
    {
      "cell_type": "markdown",
      "metadata": {
        "id": "dNllU7rkHF70"
      },
      "source": [
        "4. Create an inline code example with backticks, like this:\n",
        "\n",
        "`print(\"Hello, world!\")`\n",
        "\n",
        "Then, create a multi-line code block:\n",
        "\n",
        "```python\n",
        "def greet(name):\n",
        "    return f\"Hello, {name}!\"\n",
        "greet(\"World\")\n",
        "```"
      ]
    },
    {
      "cell_type": "markdown",
      "metadata": {
        "id": "Q7OiCgERHF_c"
      },
      "source": [
        "`print(\"Hello, world!\")`\n",
        "`def greet(name):\n",
        "    return f\"Hello, {name}!\"\n",
        "greet(\"World\")`\n"
      ]
    },
    {
      "cell_type": "markdown",
      "metadata": {
        "id": "cXKz2W9YHGCn"
      },
      "source": [
        "5. Hyperlinks\n",
        "\n",
        "  Add a link to a website:\n",
        "  [Google](https://www.google.com)\n",
        "\n",
        "  Images\n",
        "\n",
        "  Upload an image (or use an online URL) and add it to the notebook:\n",
        "\n",
        "  <h3>Python Logo</h3>\n",
        "  <img src=\"https://cdn.iconscout.com/icon/free/png-512/free-python-logo-icon-download-in-svg-png-gif-file-formats--programming-language-logos-icons-1720083.png?f=webp&w=256\" alt=\"python logo\" width=\"80\"/>"
      ]
    },
    {
      "cell_type": "markdown",
      "metadata": {
        "id": "P6uGmYtIHGFw"
      },
      "source": [
        "[google](https://www.google.com)\n",
        "\n",
        "![image](cat.png)"
      ]
    },
    {
      "cell_type": "markdown",
      "metadata": {
        "id": "HITMIz3cHGJE"
      },
      "source": [
        "6. Mathematics with LaTeX\n",
        "\n",
        "  ### Mathematics with LaTeX\n",
        "\n",
        "  Write a mathematical equation in LaTeX, such as the quadratic formula:\n",
        "\n",
        "  $$\n",
        "  x = \\frac{-b \\pm \\sqrt{b^2 - 4ac}}{2a}\n",
        "  $$"
      ]
    },
    {
      "cell_type": "markdown",
      "metadata": {},
      "source": [
        "$x + y$\n",
        "$$x + y$$"
      ]
    },
    {
      "cell_type": "markdown",
      "metadata": {
        "id": "ZjQYyEavLEkm"
      },
      "source": [
        "# Code Challange!\n",
        "\n",
        "Here's a simple Python script that creates and saves a file called sample.txt with some example text."
      ]
    },
    {
      "cell_type": "code",
      "execution_count": null,
      "metadata": {
        "colab": {
          "base_uri": "https://localhost:8080/"
        },
        "id": "Tf3nwqA-JsZw",
        "outputId": "732b76dc-eab3-4185-ebf3-7366bc025903"
      },
      "outputs": [],
      "source": [
        "with open(\"sample.txt\", \"w\") as file:\n",
        "    file.write(\"This is a sample text file.\\n\")\n",
        "    file.write(\"It contains multiple lines of text.\\n\")\n",
        "    file.write(\"Python makes file handling easy!\")\n",
        "\n",
        "print(\"sample.txt has been created and saved.\")"
      ]
    },
    {
      "cell_type": "code",
      "execution_count": null,
      "metadata": {
        "colab": {
          "base_uri": "https://localhost:8080/"
        },
        "id": "UEi6YgWgMb5A",
        "outputId": "30e99a91-40b6-4a5f-8e96-2756632e72ee"
      },
      "outputs": [],
      "source": [
        "with open(\"sample.txt\", \"r\") as file:\n",
        "    contents = file.read()\n",
        "\n",
        "print(contents)"
      ]
    },
    {
      "cell_type": "markdown",
      "metadata": {
        "id": "LTbhz8ndLT8Y"
      },
      "source": [
        "Using the above as an example write a program that creates a little bio about yourself.\n",
        "\n",
        "- Use f strings to use your variables\n",
        "- Make the file save as what you entered in the name field\n",
        "- Read the file in python after you write it"
      ]
    },
    {
      "cell_type": "code",
      "execution_count": 6,
      "metadata": {
        "colab": {
          "base_uri": "https://localhost:8080/"
        },
        "id": "bbzPphDoKgqE",
        "outputId": "a87a332e-150d-4a8f-e6aa-c673addcbc91"
      },
      "outputs": [
        {
          "name": "stdout",
          "output_type": "stream",
          "text": [
            "Hi my name is Carmen, I like to Read, I love Cats, the best color is Purple\n"
          ]
        }
      ],
      "source": [
        "name = input(\"Enter your name: \")\n",
        "hobby = input(\"Enter your favorite hobby: \")\n",
        "animal = input(\"Enter your favorite animal: \")\n",
        "color = input(\"Enter your favorite color: \")\n",
        "\n",
        "\n",
        "with open(\"bio.txt\", \"w\") as file:\n",
        "    file.write(f\"Hi my name is {name}, I like to {hobby}, I love {animal}, the best color is {color}\")\n",
        "\n",
        "with open(\"bio.txt\", \"r\") as file:\n",
        "    my_bio = file.read()\n",
        "print (my_bio)"
      ]
    }
  ],
  "metadata": {
    "colab": {
      "provenance": []
    },
    "kernelspec": {
      "display_name": "Python 3",
      "name": "python3"
    },
    "language_info": {
      "codemirror_mode": {
        "name": "ipython",
        "version": 3
      },
      "file_extension": ".py",
      "mimetype": "text/x-python",
      "name": "python",
      "nbconvert_exporter": "python",
      "pygments_lexer": "ipython3",
      "version": "3.9.6"
    }
  },
  "nbformat": 4,
  "nbformat_minor": 0
}
